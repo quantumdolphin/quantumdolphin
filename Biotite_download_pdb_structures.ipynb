{
  "nbformat": 4,
  "nbformat_minor": 0,
  "metadata": {
    "kernelspec": {
      "display_name": "Python 3",
      "language": "python",
      "name": "python3"
    },
    "language_info": {
      "codemirror_mode": {
        "name": "ipython",
        "version": 3
      },
      "file_extension": ".py",
      "mimetype": "text/x-python",
      "name": "python",
      "nbconvert_exporter": "python",
      "pygments_lexer": "ipython3",
      "version": "3.8.5"
    },
    "colab": {
      "name": "Copy of biotite-download-pdb-structures.ipynb",
      "provenance": [],
      "include_colab_link": true
    }
  },
  "cells": [
    {
      "cell_type": "markdown",
      "metadata": {
        "id": "view-in-github",
        "colab_type": "text"
      },
      "source": [
        "<a href=\"https://colab.research.google.com/github/quantumdolphin/quantumdolphin/blob/main/Biotite_download_pdb_structures.ipynb\" target=\"_parent\"><img src=\"https://colab.research.google.com/assets/colab-badge.svg\" alt=\"Open In Colab\"/></a>"
      ]
    },
    {
      "cell_type": "code",
      "metadata": {
        "id": "lkKIfTWWBnmV"
      },
      "source": [
        ""
      ],
      "execution_count": null,
      "outputs": []
    },
    {
      "cell_type": "code",
      "metadata": {
        "id": "8KT6VwA156pQ"
      },
      "source": [
        "import biotite as bt\n",
        "import biotite.database.rcsb as rcsb"
      ],
      "execution_count": null,
      "outputs": []
    },
    {
      "cell_type": "code",
      "metadata": {
        "colab": {
          "base_uri": "https://localhost:8080/"
        },
        "id": "oJH8YjRBW03q",
        "outputId": "13c04b58-2760-4e67-8180-048723c9397a"
      },
      "source": [
        "!pip install biotite"
      ],
      "execution_count": null,
      "outputs": [
        {
          "output_type": "stream",
          "text": [
            "Collecting biotite\n",
            "\u001b[?25l  Downloading https://files.pythonhosted.org/packages/7e/10/bb3e94f45bd0c3cf6cafc419e31f558ec8b65ba0e7687b91b1d2ecfddf4d/biotite-0.27.0-cp37-cp37m-manylinux1_x86_64.whl (37.1MB)\n",
            "\u001b[K     |████████████████████████████████| 37.1MB 1.3MB/s \n",
            "\u001b[?25hRequirement already satisfied: requests>=2.12 in /usr/local/lib/python3.7/dist-packages (from biotite) (2.23.0)\n",
            "Requirement already satisfied: numpy>=1.15 in /usr/local/lib/python3.7/dist-packages (from biotite) (1.19.5)\n",
            "Requirement already satisfied: networkx>=2.0 in /usr/local/lib/python3.7/dist-packages (from biotite) (2.5.1)\n",
            "Requirement already satisfied: msgpack>=0.5.6 in /usr/local/lib/python3.7/dist-packages (from biotite) (1.0.2)\n",
            "Requirement already satisfied: idna<3,>=2.5 in /usr/local/lib/python3.7/dist-packages (from requests>=2.12->biotite) (2.10)\n",
            "Requirement already satisfied: chardet<4,>=3.0.2 in /usr/local/lib/python3.7/dist-packages (from requests>=2.12->biotite) (3.0.4)\n",
            "Requirement already satisfied: urllib3!=1.25.0,!=1.25.1,<1.26,>=1.21.1 in /usr/local/lib/python3.7/dist-packages (from requests>=2.12->biotite) (1.24.3)\n",
            "Requirement already satisfied: certifi>=2017.4.17 in /usr/local/lib/python3.7/dist-packages (from requests>=2.12->biotite) (2020.12.5)\n",
            "Requirement already satisfied: decorator<5,>=4.3 in /usr/local/lib/python3.7/dist-packages (from networkx>=2.0->biotite) (4.4.2)\n",
            "Installing collected packages: biotite\n",
            "Successfully installed biotite-0.27.0\n"
          ],
          "name": "stdout"
        }
      ]
    },
    {
      "cell_type": "code",
      "metadata": {
        "colab": {
          "base_uri": "https://localhost:8080/"
        },
        "id": "LqJx3KXdV1Iz",
        "outputId": "57215f39-3931-40c7-84d0-dab413f59801"
      },
      "source": [
        "from google.colab import drive\n",
        "drive.mount('/content/gdrive/')"
      ],
      "execution_count": null,
      "outputs": [
        {
          "output_type": "stream",
          "text": [
            "Mounted at /content/gdrive/\n"
          ],
          "name": "stdout"
        }
      ]
    },
    {
      "cell_type": "code",
      "metadata": {
        "colab": {
          "base_uri": "https://localhost:8080/"
        },
        "id": "8XnQcQ0WWSwj",
        "outputId": "68e1ae0e-27f7-4c67-c4ee-311c0500c2e0"
      },
      "source": [
        "#USE THIS SCRIPT TO SET THE CWD:\n",
        "import os \n",
        "\n",
        "# Set your working directory to a folder in your Google Drive. This way, if your notebook times out,\n",
        "# your files will be saved in your Google Drive!\n",
        "\n",
        "# the base Google Drive directory\n",
        "root_dir = \"/content/gdrive/MyDrive\"\n",
        "\n",
        "# choose where you want your project files to be saved\n",
        "project_folder = \"/content/gdrive/MyDrive/0_cys_paper-PDB-search\"\n",
        "\n",
        "# def create_and_set_working_directory(project_folder):\n",
        "#   # check if your project folder exists. if not, it will be created.\n",
        "#   if os.path.isdir(root_dir + project_folder) == False:\n",
        "#     os.mkdir(root_dir + project_folder)\n",
        "#     print(root_dir + project_folder + ' did not exist but was created.')\n",
        "\n",
        "  # change the OS to use your project folder as the working directory\n",
        "os.chdir(project_folder)\n",
        "\n",
        "  # create a test file to make sure it shows up in the right place\n",
        "!touch 'new_file_in_working_directory.txt'\n",
        "print('\\nYour working directory was changed to ' + project_folder + \\\n",
        "        \"\\n\\nAn empty text file was created there. You can also run !pwd to confirm the current working directory.\" )"
      ],
      "execution_count": null,
      "outputs": [
        {
          "output_type": "stream",
          "text": [
            "\n",
            "Your working directory was changed to /content/gdrive/MyDrive/0_cys_paper-PDB-search\n",
            "\n",
            "An empty text file was created there. You can also run !pwd to confirm the current working directory.\n"
          ],
          "name": "stdout"
        }
      ]
    },
    {
      "cell_type": "code",
      "metadata": {
        "id": "q9JkQDmC56pT"
      },
      "source": [
        "my_file = open(\"PDB_entry_results.txt\", \"r\")\n",
        "content = my_file.read()\n",
        "#print(content)\n",
        "entry_list = content.split(\"\\n\")\n",
        "my_file.close()"
      ],
      "execution_count": null,
      "outputs": []
    },
    {
      "cell_type": "code",
      "metadata": {
        "colab": {
          "base_uri": "https://localhost:8080/"
        },
        "id": "agZohinnWg9N",
        "outputId": "40db24d6-3be8-489c-994b-df859c6f6ae2"
      },
      "source": [
        "!pwd"
      ],
      "execution_count": null,
      "outputs": [
        {
          "output_type": "stream",
          "text": [
            "/content/gdrive/MyDrive/0_cys_paper-PDB-search\n"
          ],
          "name": "stdout"
        }
      ]
    },
    {
      "cell_type": "code",
      "metadata": {
        "id": "K2yrsXoI56pU",
        "outputId": "f589bbd1-a75e-4498-961f-3cc68292b651"
      },
      "source": [
        "print(entry_list)"
      ],
      "execution_count": null,
      "outputs": [
        {
          "output_type": "stream",
          "text": [
            "['1BI5', '1BQ6', '1DNC', '1EE0', '1EKK', '1EU1', '1GZ8', '1I86', '1I88', '1IRE', '1JWX', '1MHW', '1OBB', '1OBF', '1OCH', '1OKI', '1Q1Y', '1Q79', '1Q9U', '1QFM', '1R7A', '1SOA', '1TVZ', '1U9C', '1UGP', '1UGR', '1UKK', '1VGX', '1VJE', '1WUO', '1YM9', '1YSL', '2AHJ', '2BC0', '2BFZ', '2BG6', '2C9H', '2CYZ', '2CZ0', '2CZ1', '2CZ6', '2CZ7', '2D0Q', '2D3M', '2D51', '2D52', '2D5F', '2DD5', '2DXB', '2DXC', '2EG3', '2FHX', '2G82', '2GCU', '2GDU', '2H9W', '2HAI', '2HL8', '2IMZ', '2NQT', '2OJP', '2OPL', '2P0U', '2PVZ', '2QDY', '2R3I', '2R3J', '2R3K', '2R3L', '2R3M', '2R3N', '2R3O', '2R3P', '2R3Q', '2RIL', '2RK6', '2VB7', '2VYN', '2WLR', '2X1D', '2X1E', '2Z1D', '2ZCF', '2ZPB', '2ZPE', '2ZPF', '2ZPG', '2ZPH', '2ZPI', '2ZZD', '3A8G', '3A8H', '3A8L', '3A8M', '3A8O', '3AWK', '3BC2', '3BC3', '3C5Y', '3CYF', '3EUO', '3EUT', '3EZG', '3F5V', '3H4H', '3H56', '3HHT', '3HJ0', '3I1H', '3IL9', '3IW3', '3KI8', '3LQY', '3MI2', '3NRA', '3OQI', '3OQP', '3P5U', '3PG8', '3PHU', '3QOR', '3QXE', '3QYG', '3QYH', '3QZ9', '3SED', '3SGU', '3SMH', '3SQZ', '3T6S', '3T8E', '3TB2', '3TKK', '3TKS', '3U7L', '3U7M', '3U7N', '3UIP', '3UK7', '3VYG', '3VYH', '3WEU', '3WVD', '3WVE', '3X20', '3X24', '3X25', '3X26', '3X28', '3ZJF', '3ZJG', '4AGI', '4AH4', '4AY7', '4AY8', '4BPY', '4D52', '4EKF', '4FM4', '4G2O', '4GE0', '4GE3', '4I07', '4IEF', '4IW7', '4M5P', '4N12', '4NJ3', '4NT8', '4NYO', '4NYP', '4OB0', '4OB1', '4OB2', '4OB3', '4OMR', '4OQ4', '4ORN', '4P2G', '4P5P', '4PIO', '4PSS', '4PST', '4PSY', '4PTH', '4PTJ', '4QIB', '4QJE', '4QYT', '4RGC', '4RYB', '4TTG', '4U2C', '4U85', '4U8E', '4UAM', '4V2P', '4WPZ', '4WQ8', '4WQ9', '4XLL', '4Y0N', '4Y1F', '4Y1R', '4YUF', '4Z37', '4ZGD', '5C7I', '5CPD', '5E68', '5F8C', '5F8F', '5FQA', '5FZO', '5G5G', '5G5H', '5GK0', '5H5S', '5HWR', '5IMD', '5IMF', '5IMZ', '5INY', '5IO0', '5IOW', '5IPG', '5IZD', '5J78', '5JQN', '5JSH', '5JSU', '5JT1', '5LRY', '5NAI', '5NUE', '5NY7', '5SY9', '5SYA', '5UC5', '5UR0', '5V5H', '5VF5', '5W3V', '5W8Q', '5WC4', '5WSD', '5WSE', '5WSF', '5Y0S', '5Y0T', '5Z3D', '5Z89', '6B6L', '6BKA', '6C9U', '6DX9', '6DXA', '6DXB', '6DXC', '6DXD', '6ED0', '6ESZ', '6FTQ', '6FXS', '6G5M', '6GW3', '6H2U', '6I7Q', '6I7R', '6IKT', '6IKY', '6IL0', '6IL2', '6ISQ', '6JFO', '6K5J', '6L2D', '6L2E', '6L2F', '6MTG', '6MU0', '6N1A', '6PT4', '6R6U', '6RIZ', '6RTP', '6RUC', '6TYY', '6UTN', '6XKH', '6YCB', '6Z7R', '6Z8J', '6Z8M', '6Z9G', '6Z9O', '6ZA1', '6ZK6', '7B1Y', '7B23', '7BUR', '7KJ0', '7NAY', '1CXP', '1D5L', '1DNU', '1DNW', '1F3B', '1FNJ', '1FZJ', '1FZK', '1FZM', '1FZO', '1GR7', '1GSN', '1GZW', '1I9T', '1IRE', '1JZ7', '1K3I', '1LEG', '1LG7', '1LOQ', '1ML6', '1O8V', '1O9Q', '1OET', '1OU6', '1PKW', '1PKZ', '1PL1', '1PL2', '1Q79', '1QQF', '1QVZ', '1RQ4', '1SBH', '1SBI', '1SK4', '1SVY', '1UB7', '1UGP', '1UGR', '1W2M', '1W6M', '1W6N', '1W6O', '1W6P', '1WL4', '1WL5', '1WL8', '1WL9', '1WUH', '1WUI', '1WUJ', '1WUK', '1WUL', '1XCM', '1XVW', '1Y1F', '1YML', '1ZW6', '2AHJ', '2AQ5', '2BFZ', '2BG7', '2BJA', '2BWS', '2BWV', '2BWX', '2C9S', '2CIR', '2CIS', '2CVO', '2CYZ', '2CZ1', '2CZ6', '2CZ7', '2D1Q', '2D1R', '2D1S', '2D1T', '2D4L', '2D4M', '2DD5', '2DXB', '2DXC', '2EG4', '2EJD', '2EJL', '2ES4', '2F2L', '2FHX', '2HCJ', '2HP0', '2IBU', '2IBW', '2IBY', '2ID4', '2ISY', '2J40', '2J89', '2O7Q', '2O7S', '2PVH', '2PVJ', '2PVK', '2PVM', '2QTL', '2QTZ', '2RFV', '2RG2', '2V3X', '2V3Y', '2V3Z', '2VEC', '2VH3', '2VR8', '2VU0', '2VU1', '2WAW', '2WKO', '2WKT', '2WME', '2WYZ', '2X2H', '2XF1', '2XZD', '2Y0B', '2Y6U', '2YES', '2ZCF', '2ZCT', '2ZPB', '2ZPE', '2ZPF', '2ZPG', '2ZPH', '2ZPI', '3A8G', '3A8H', '3A8L', '3A8O', '3AAY', '3B4Y', '3B8B', '3BB0', '3BE9', '3BOO', '3BQG', '3CIW', '3CIX', '3CKC', '3CUS', '3CV2', '3D7Z', '3D83', '3DQY', '3E92', '3E93', '3F71', '3FL5', '3FSG', '3IB4', '3IG5', '3IIX', '3IIZ', '3IPH', '3IQJ', '3IQU', '3IQV', '3IV0', '3JWA', '3JWB', '3K94', '3KEV', '3KMZ', '3LAC', '3LW1', '3MHR', '3MII', '3MKJ', '3N80', '3NJQ', '3NON', '3OY8', '3P1N', '3P1O', '3P5V', '3P5X', '3PEF', '3PR6', '3PVG', '3QD5', '3QSR', '3RJT', '3ROJ', '3RPL', '3SF8', '3SS6', '3SUJ', '3T6E', '3T8T', '3TJJ', '3TKS', '3TP1', '3TPS', '3TRN', '3TS6', '3TU8', '3U2A', '3U7E', '3U7F', '3U7H', '3U9X', '3UAO', '3UBW', '3UU7', '3UUA', '3UUD', '3UX0', '3VYG', '3VYH', '3WVD', '3WVE', '3WWJ', '3X20', '3X24', '3X25', '3X26', '3X28', '3ZJE', '3ZS0', '3ZVH', '4ASC', '4AYC', '4AZ4', '4B1H', '4B30', '4BG4', '4BGC', '4BPC', '4C2J', '4C5P', '4C7Y', '4C7Z', '4C80', '4CRY', '4CRZ', '4CS0', '4CYF', '4D3X', '4D6A', '4DGN', '4DHP', '4DHQ', '4DHR', '4DHS', '4DHU', '4DL1', '4DOM', '4DWN', '4E88', '4EO7', '4EOC', '4ESY', '4EVX', '4FL5', '4FR3', '4FST', '4FSW', '4FSY', '4FSZ', '4FT3', '4FTA', '4FTC', '4FTN', '4FTQ', '4G22', '4GE7', '4GH2', '4GSB', '4H2X', '4HTF', '4I05', '4IM6', '4IQL', '4IUD', '4IZK', '4JEV', '4JIH', '4JXC', '4JYF', '4K2E', '4LBQ', '4LIX', '4LM5', '4LWJ', '4LWL', '4MG5', '4MG6', '4MG7', '4MG8', '4MG9', '4MGA', '4MGB', '4MGC', '4MGD', '4MPG', '4NHO', '4NS1', '4NSN', '4O57', '4OB3', '4P34', '4P36', '4P7Y', '4PGT', '4PH3', '4PXL', '4Q2H', '4Q3R', '4Q53', '4QTT', '4QTU', '4R0K', '4RPA', '4RSP', '4RV9', '4RVH', '4RWV', '4TR0', '4TR1', '4TUZ', '4TV1', '4TYM', '4TZ2', '4U84', '4UCW', '4UD2', '4UD6', '4UE2', '4UE3', '4UE6', '4UEW', '4US8', '4US9', '4USA', '4UT2', '4UT3', '4V3F', '4WB0', '4WBI', '4WHO', '4WHR', '4WHS', '4X1U', '4X33', '4XBL', '4XP7', '4Y1G', '4Y1U', '4Y1Y', '4Y1Z', '4Y20', '4Y4V', '4YAV', '4YL0', '4YT9', '4Z5X', '4ZNM', '4ZXP', '5A2D', '5A4F', '5A4I', '5ADU', '5AUI', '5AUL', '5BTV', '5CJN', '5D5S', '5D77', '5DAK', '5DAL', '5EHT', '5ETQ', '5ETV', '5EZQ', '5FBK', '5FIS', '5FIW', '5HF3', '5HWQ', '5ID2', '5IKM', '5ILN', '5IM9', '5IMA', '5IMC', '5IPG', '5JGY', '5JMM', '5JRD', '5JT8', '5JY4', '5K0A', '5K0I', '5L2M', '5L2N', '5L6H', '5LIR', '5LMM', '5LNP', '5LS7', '5M3Z', '5MFA', '5MZ2', '5N0N', '5N0O', '5N0T', '5N9Z', '5NHS', '5NN3', '5NN5', '5NN6', '5NN8', '5NUE', '5O84', '5OCO', '5OCT', '5OL1', '5OVX', '5OX0', '5OYA', '5QGG', '5QGH', '5QGI', '5QGJ', '5QGL', '5QGM', '5QGN', '5QGO', '5QGP', '5QGQ', '5QGR', '5QGS', '5QGT', '5QGU', '5QGV', '5QGW', '5QGX', '5QGY', '5QGZ', '5QH0', '5QH1', '5QH2', '5QH3', '5QH4', '5QH5', '5QH6', '5QH7', '5QH8', '5QH9', '5QHA', '5QHB', '5QHC', '5QHE', '5QHF', '5QHG', '5QHH', '5TL8', '5TL9', '5U8E', '5U92', '5UFH', '5UUS', '5UZU', '5V01', '5VM2', '5VUB', '5VUC', '5WDJ', '5WJ8', '5WZ4', '5WZF', '5XHX', '5XLF', '5XLG', '5XLH', '5XVC', '5XVD', '5Y4N', '5YKJ', '5Z0B', '5ZZZ', '6A6S', '6A6U', '6AQ4', '6AR9', '6AZP', '6B11', '6B2R', '6B2S', '6B9Z', '6BJA', '6BJP', '6BO0', '6BVI', '6BVJ', '6BVK', '6BVL', '6BVM', '6BWE', '6C62', '6CUO', '6CUP', '6CUR', '6D55', '6D56', '6D59', '6D5E', '6D5G', '6D5H', '6D5J', '6D5L', '6D81', '6D82', '6D85', '6D86', '6DXE', '6DXF', '6E8E', '6EGR', '6EHS', '6ET0', '6EUM', '6EWL', '6F0W', '6F4R', '6F4T', '6F9T', '6FA1', '6FA3', '6FA4', '6FBA', '6FPO', '6FSK', '6G0I', '6G0J', '6GG4', '6GHP', '6GOM', '6H2U', '6H5W', '6HM4', '6HRV', '6HSJ', '6HUY', '6MNH', '6MQG', '6MRP', '6NI5', '6NI6', '6NI7', '6NI9', '6NIA', '6NOZ', '6NV2', '6O4D', '6PCB', '6PCC', '6Q00', '6Q9V', '6QHM', '6QTO', '6QTQ', '6QTR', '6QTS', '6QTT', '6QTU', '6QTV', '6QTW', '6QTX', '6QZC', '6QZN', '6QZS', '6RA8', '6RIV', '6RJZ', '6RK8', '6RL3', '6RL4', '6RL6', '6RM7', '6RM9', '6RP2', '6RX2', '6S0D', '6S2M', '6SF6', '6SMS', '6SW2', '6T96', '6TBN', '6U15', '6U16', '6U17', '6UXC', '6V94', '6V9F', '6V9J', '6V9L', '6V9M', '6V9N', '6V9O', '6VKA', '6VL4', '6VPQ', '6WCI', '6WXZ', '6WY7', '6XG7', '6XVS', '6XYB', '6XYD', '6Y1J', '6Y3M', '6Y3O', '6Y3R', '6Y3S', '6Y40', '6Y44', '6Y8A', '6Y8B', '6Y8D', '6Y8E', '6YHN', '6YOW', '6YOX', '6YOY', '6YP2', '6YP3', '6YP8', '6YPL', '6YPY', '6YQ2', '6ZDT', '6ZK6', '7A0L', '7AM3', '7AM4', '7AR5', '7BY4', '7JPY', '7JPZ', '7JQ0', '7JQ2', '7JQ4', '1CS8', '1E6Y', '1IE0', '1J98', '1JQW', '1JVI', '1KCZ', '1LM4', '1LME', '1MZS', '1O1X', '1O1Y', '1OEO', '1OEV', '1SMB', '1V3Y', '1W7V', '1WBQ', '1XIY', '1Y1G', '1Y1J', '1YMD', '1Z70', '1ZB8', '1ZB9', '2AFY', '2CIO', '2CV4', '2CYJ', '2F1K', '2GPC', '2HEZ', '2HL9', '2IMP', '2NVL', '2P8E', '2PN0', '2PT0', '2QPF', '2R47', '2RLC', '2UYJ', '2UYK', '2UYN', '2V1M', '2VOA', '2WFI', '2WPN', '2Y8B', '2YNV', '2ZZE', '3C4B', '3EF2', '3ELK', '3FBX', '3FGR', '3FGT', '3GS9', '3GZS', '3H41', '3I0V', '3I14', '3I15', '3IMA', '3IU6', '3KOM', '3MC4', '3O5A', '3OMD', '3P9R', '3P9S', '3PNX', '3PVQ', '3Q3X', '3QOR', '3QQD', '3R0V', '3RH0', '3SHO', '3SVJ', '3TTV', '3TTW', '3TTX', '3UBU', '3UK1', '3WL5', '3WL7', '3WWD', '3ZBG', '3ZE6', '3ZE7', '3ZE8', '3ZE9', '3ZEA', '3ZJF', '3ZJG', '3ZVH', '3ZXO', '4AIW', '4BWC', '4CIT', '4CP9', '4CPB', '4D1W', '4D73', '4ENQ', '4ENR', '4ENT', '4ENU', '4ERW', '4FDY', '4FR7', '4FSB', '4G6Z', '4HPE', '4LGT', '4NWM', '4O5A', '4OH1', '4OTF', '4OW0', '4RNA', '4RPA', '4RV8', '4TLT', '4TLU', '4TNF', '4U86', '4UUP', '4UWO', '4UWP', '4UWR', '4UWS', '4WCF', '4Y1R', '5ACP', '5ACQ', '5ACR', '5ACT', '5ACV', '5ACW', '5ACX', '5AG2', '5BOR', '5BOS', '5C7L', '5C7O', '5ELA', '5H5Q', '5H5R', '5HKE', '5I4M', '5IMV', '5IZC', '5JDC', '5JEX', '5JEZ', '5JF0', '5JF1', '5JF2', '5JF3', '5JF4', '5JF5', '5JF6', '5JF7', '5JF8', '5JMU', '5JSY', '5K6A', '5NAH', '5O84', '5OVQ', '5TK4', '5TW0', '5TXW', '5TZL', '5UR0', '5VRB', '5XBQ', '5XBR', '5XRY', '5XTL', '5XU2', '5Y2P', '5Y7P', '5YHH', '5YJ2', '5YJA', '5Z27', '6BIK', '6BKE', '6BKH', '6BKW', '6BLN', '6BZZ', '6DXY', '6E72', '6E76', '6E78', '6GCL', '6H45', '6L4Y', '6LTQ', '6O4D', '6OFU', '6OP7', '6Q3C', '6Q3F', '6Q4F', '6S98', '6SNU', '6SQX', '6V3Q', '6V3U', '6V7G', '6V7J', '6Z9G', '6ZTV', '6ZTW', '7BVV', '7NAY', '']\n"
          ],
          "name": "stdout"
        }
      ]
    },
    {
      "cell_type": "code",
      "metadata": {
        "colab": {
          "base_uri": "https://localhost:8080/",
          "height": 235
        },
        "id": "UJEzBiz256pV",
        "outputId": "21011595-e626-4dee-f56f-bb20fea25ad8"
      },
      "source": [
        "entry_list.remove('PDB ID')\n",
        "#entry_list.remove('7B1Y')\n",
        "# entry_list.remove('7B23')\n",
        "# entry_list.remove('4UE3')\n",
        "# entry_list.remove('6QZC')"
      ],
      "execution_count": null,
      "outputs": [
        {
          "output_type": "error",
          "ename": "ValueError",
          "evalue": "ignored",
          "traceback": [
            "\u001b[0;31m---------------------------------------------------------------------------\u001b[0m",
            "\u001b[0;31mValueError\u001b[0m                                Traceback (most recent call last)",
            "\u001b[0;32m<ipython-input-14-6f1437c33068>\u001b[0m in \u001b[0;36m<module>\u001b[0;34m()\u001b[0m\n\u001b[0;32m----> 1\u001b[0;31m \u001b[0mentry_list\u001b[0m\u001b[0;34m.\u001b[0m\u001b[0mremove\u001b[0m\u001b[0;34m(\u001b[0m\u001b[0;34m'PDB ID'\u001b[0m\u001b[0;34m)\u001b[0m\u001b[0;34m\u001b[0m\u001b[0;34m\u001b[0m\u001b[0m\n\u001b[0m\u001b[1;32m      2\u001b[0m \u001b[0;31m#entry_list.remove('7B1Y')\u001b[0m\u001b[0;34m\u001b[0m\u001b[0;34m\u001b[0m\u001b[0;34m\u001b[0m\u001b[0m\n\u001b[1;32m      3\u001b[0m \u001b[0;31m# entry_list.remove('7B23')\u001b[0m\u001b[0;34m\u001b[0m\u001b[0;34m\u001b[0m\u001b[0;34m\u001b[0m\u001b[0m\n\u001b[1;32m      4\u001b[0m \u001b[0;31m# entry_list.remove('4UE3')\u001b[0m\u001b[0;34m\u001b[0m\u001b[0;34m\u001b[0m\u001b[0;34m\u001b[0m\u001b[0m\n\u001b[1;32m      5\u001b[0m \u001b[0;31m# entry_list.remove('6QZC')\u001b[0m\u001b[0;34m\u001b[0m\u001b[0;34m\u001b[0m\u001b[0;34m\u001b[0m\u001b[0m\n",
            "\u001b[0;31mValueError\u001b[0m: list.remove(x): x not in list"
          ]
        }
      ]
    },
    {
      "cell_type": "code",
      "metadata": {
        "colab": {
          "base_uri": "https://localhost:8080/"
        },
        "id": "N0H5deez56pW",
        "outputId": "01009d73-af76-417f-dfed-9a658ca4ce5b"
      },
      "source": [
        "import os\n",
        "CURR_DIR = os.getcwd()\n",
        "print(CURR_DIR)"
      ],
      "execution_count": null,
      "outputs": [
        {
          "output_type": "stream",
          "text": [
            "/content/gdrive/My Drive/0_cys_paper-PDB-search\n"
          ],
          "name": "stdout"
        }
      ]
    },
    {
      "cell_type": "code",
      "metadata": {
        "colab": {
          "base_uri": "https://localhost:8080/",
          "height": 311
        },
        "id": "EwI5KdhN56pW",
        "outputId": "3124495a-0cf8-46e7-f878-3201a7fbd43a"
      },
      "source": [
        "for entry in entry_list:\n",
        "    file_name = str(entry)+'.pdb'\n",
        "    #print(file_name)\n",
        "    file_name = bt.database.rcsb.fetch(entry ,'pdb',CURR_DIR)"
      ],
      "execution_count": null,
      "outputs": [
        {
          "output_type": "error",
          "ename": "RequestError",
          "evalue": "ignored",
          "traceback": [
            "\u001b[0;31m---------------------------------------------------------------------------\u001b[0m",
            "\u001b[0;31mRequestError\u001b[0m                              Traceback (most recent call last)",
            "\u001b[0;32m<ipython-input-12-9830685af6e1>\u001b[0m in \u001b[0;36m<module>\u001b[0;34m()\u001b[0m\n\u001b[1;32m      2\u001b[0m     \u001b[0mfile_name\u001b[0m \u001b[0;34m=\u001b[0m \u001b[0mstr\u001b[0m\u001b[0;34m(\u001b[0m\u001b[0mentry\u001b[0m\u001b[0;34m)\u001b[0m\u001b[0;34m+\u001b[0m\u001b[0;34m'.pdb'\u001b[0m\u001b[0;34m\u001b[0m\u001b[0;34m\u001b[0m\u001b[0m\n\u001b[1;32m      3\u001b[0m     \u001b[0;31m#print(file_name)\u001b[0m\u001b[0;34m\u001b[0m\u001b[0;34m\u001b[0m\u001b[0;34m\u001b[0m\u001b[0m\n\u001b[0;32m----> 4\u001b[0;31m     \u001b[0mfile_name\u001b[0m \u001b[0;34m=\u001b[0m \u001b[0mbt\u001b[0m\u001b[0;34m.\u001b[0m\u001b[0mdatabase\u001b[0m\u001b[0;34m.\u001b[0m\u001b[0mrcsb\u001b[0m\u001b[0;34m.\u001b[0m\u001b[0mfetch\u001b[0m\u001b[0;34m(\u001b[0m\u001b[0mentry\u001b[0m \u001b[0;34m,\u001b[0m\u001b[0;34m'pdb'\u001b[0m\u001b[0;34m,\u001b[0m\u001b[0mCURR_DIR\u001b[0m\u001b[0;34m)\u001b[0m\u001b[0;34m\u001b[0m\u001b[0;34m\u001b[0m\u001b[0m\n\u001b[0m",
            "\u001b[0;32m/usr/local/lib/python3.7/dist-packages/biotite/database/rcsb/download.py\u001b[0m in \u001b[0;36mfetch\u001b[0;34m(pdb_ids, format, target_path, overwrite, verbose)\u001b[0m\n\u001b[1;32m    112\u001b[0m                     \u001b[0mr\u001b[0m \u001b[0;34m=\u001b[0m \u001b[0mrequests\u001b[0m\u001b[0;34m.\u001b[0m\u001b[0mget\u001b[0m\u001b[0;34m(\u001b[0m\u001b[0m_standard_url\u001b[0m \u001b[0;34m+\u001b[0m \u001b[0mid\u001b[0m \u001b[0;34m+\u001b[0m \u001b[0;34m\".pdb\"\u001b[0m\u001b[0;34m)\u001b[0m\u001b[0;34m\u001b[0m\u001b[0;34m\u001b[0m\u001b[0m\n\u001b[1;32m    113\u001b[0m                     \u001b[0mcontent\u001b[0m \u001b[0;34m=\u001b[0m \u001b[0mr\u001b[0m\u001b[0;34m.\u001b[0m\u001b[0mtext\u001b[0m\u001b[0;34m\u001b[0m\u001b[0;34m\u001b[0m\u001b[0m\n\u001b[0;32m--> 114\u001b[0;31m                     \u001b[0m_assert_valid_file\u001b[0m\u001b[0;34m(\u001b[0m\u001b[0mcontent\u001b[0m\u001b[0;34m,\u001b[0m \u001b[0mid\u001b[0m\u001b[0;34m)\u001b[0m\u001b[0;34m\u001b[0m\u001b[0;34m\u001b[0m\u001b[0m\n\u001b[0m\u001b[1;32m    115\u001b[0m                 \u001b[0;32melif\u001b[0m \u001b[0mformat\u001b[0m \u001b[0;32min\u001b[0m \u001b[0;34m[\u001b[0m\u001b[0;34m\"cif\"\u001b[0m\u001b[0;34m,\u001b[0m \u001b[0;34m\"mmcif\"\u001b[0m\u001b[0;34m,\u001b[0m \u001b[0;34m\"pdbx\"\u001b[0m\u001b[0;34m]\u001b[0m\u001b[0;34m:\u001b[0m\u001b[0;34m\u001b[0m\u001b[0;34m\u001b[0m\u001b[0m\n\u001b[1;32m    116\u001b[0m                     \u001b[0mr\u001b[0m \u001b[0;34m=\u001b[0m \u001b[0mrequests\u001b[0m\u001b[0;34m.\u001b[0m\u001b[0mget\u001b[0m\u001b[0;34m(\u001b[0m\u001b[0m_standard_url\u001b[0m \u001b[0;34m+\u001b[0m \u001b[0mid\u001b[0m \u001b[0;34m+\u001b[0m \u001b[0;34m\".cif\"\u001b[0m\u001b[0;34m)\u001b[0m\u001b[0;34m\u001b[0m\u001b[0;34m\u001b[0m\u001b[0m\n",
            "\u001b[0;32m/usr/local/lib/python3.7/dist-packages/biotite/database/rcsb/download.py\u001b[0m in \u001b[0;36m_assert_valid_file\u001b[0;34m(response_text, pdb_id)\u001b[0m\n\u001b[1;32m    160\u001b[0m         \u001b[0;34m\"No fasta files were found.\"\u001b[0m\u001b[0;34m\u001b[0m\u001b[0;34m\u001b[0m\u001b[0m\n\u001b[1;32m    161\u001b[0m     ]):\n\u001b[0;32m--> 162\u001b[0;31m         \u001b[0;32mraise\u001b[0m \u001b[0mRequestError\u001b[0m\u001b[0;34m(\u001b[0m\u001b[0;34m\"PDB ID {:} is invalid\"\u001b[0m\u001b[0;34m.\u001b[0m\u001b[0mformat\u001b[0m\u001b[0;34m(\u001b[0m\u001b[0mpdb_id\u001b[0m\u001b[0;34m)\u001b[0m\u001b[0;34m)\u001b[0m\u001b[0;34m\u001b[0m\u001b[0;34m\u001b[0m\u001b[0m\n\u001b[0m",
            "\u001b[0;31mRequestError\u001b[0m: PDB ID  is invalid"
          ]
        }
      ]
    },
    {
      "cell_type": "code",
      "metadata": {
        "colab": {
          "base_uri": "https://localhost:8080/"
        },
        "id": "-TsnqASGZC-0",
        "outputId": "c8e484b5-3368-4069-bf37-5052e2dfc5e2"
      },
      "source": [
        "!ls -l *.pdb | wc -l\n"
      ],
      "execution_count": null,
      "outputs": [
        {
          "output_type": "stream",
          "text": [
            "1124\n"
          ],
          "name": "stdout"
        }
      ]
    },
    {
      "cell_type": "code",
      "metadata": {
        "id": "tsNaEiLh56pX"
      },
      "source": [
        "my_file = open(\"pdb_list\", \"r\")\n",
        "content = my_file.read()\n",
        "#print(content)\n",
        "pdb_list = content.split(\"\\n\")\n",
        "my_file.close()"
      ],
      "execution_count": null,
      "outputs": []
    },
    {
      "cell_type": "code",
      "metadata": {
        "id": "Ug6ROW0u56pX"
      },
      "source": [
        "!srigovinda.sh\n",
        "\n",
        "\n",
        "\n",
        "\n"
      ],
      "execution_count": null,
      "outputs": []
    },
    {
      "cell_type": "code",
      "metadata": {
        "id": "bvnnVzUW56pX",
        "outputId": "ac5de33f-0112-4af0-c981-0e355c4cd34a"
      },
      "source": [
        "!conda install -c schrodinger pymol -psico"
      ],
      "execution_count": null,
      "outputs": [
        {
          "output_type": "stream",
          "text": [
            "\n",
            "EnvironmentLocationNotFound: Not a conda environment: C:\\Users\\vijik\\Documents\\0_working_directories\\23-mar-21\\sico\n",
            "\n"
          ],
          "name": "stderr"
        }
      ]
    },
    {
      "cell_type": "code",
      "metadata": {
        "id": "HES5M3f756pY"
      },
      "source": [
        ""
      ],
      "execution_count": null,
      "outputs": []
    }
  ]
}